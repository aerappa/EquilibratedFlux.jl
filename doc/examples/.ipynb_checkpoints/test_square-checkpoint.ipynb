{
 "cells": [
  {
   "cell_type": "markdown",
   "metadata": {},
   "source": [
    "# eq_field flux"
   ]
  },
  {
   "cell_type": "markdown",
   "metadata": {},
   "source": [
    "This package is based on the\n",
    "[Gridap.jl](https://github.com/gridap/Gridap.jl/tree/master) to provide tools to calculate a\n",
    "posteriori error estimates for numerical solutions of\n",
    "partial differential equations (PDEs). More precisely, if we solving an abstract PDE of the\n",
    "form: find $u$ such that\n",
    "$$-\\nabla\\cdot\\mathbf{A}(u) = f.$$\n",
    "If we compute an approximation $u_h$ to the solution $u$ in Gridap.jl,\n",
    "the `EqFlux.jl` library provides the tools to compute an estimator\n",
    "$\\eta(u_h)$ such that the error measured in some norm $\\|\\cdot\\|$ can be\n",
    "bounded by\n",
    "$$\\|u - u_h\\| \\le \\eta(u_h),$$\n",
    "which we refer to as reliability, as well as the bound\n",
    "$$\\eta(u_h) \\lesssim \\|u - u_h\\|$$\n",
    "which we refer to as efficiency. The main ingredient in computing this estimator\n",
    "is an reconstructed flux obtained by postprocessing that is an approximation\n",
    "to the to the numerical flux, i.e., $\\sigma_h\\approx \\mathbf{A}(u_h)$. This\n",
    "flux has the important property of being \"mass conservative\" in the sense\n",
    "that\n",
    "$$\\sigma_h \\in \\mathbf{H}(\\mathrm{div},\\Omega).$$\n",
    "we provide two functions to obtain this object:\n",
    "`build_equilibrated_flux` and `build_average_flux`. In addition, for the\n",
    "eq_field flux the so-called equilibrium condition is satisfied, i.e.,\n",
    "$$\\nabla\\cdot\\sigma_h = \\Pi_pf$$\n",
    "where $\\Pi_p$ is the orthogonal projection onto polynomials of degree at most\n",
    "$p$."
   ]
  },
  {
   "cell_type": "markdown",
   "metadata": {},
   "source": [
    "We first load the required packages"
   ]
  },
  {
   "cell_type": "code",
   "execution_count": 1,
   "metadata": {},
   "outputs": [],
   "source": [
    "#import Pkg                             #hide\n",
    "#Pkg.activate(joinpath(@__DIR__, \"..\")) #hide\n",
    "#Pkg.resolve(io=devnull)                #hide\n",
    "using Gridap\n",
    "using Gridap.Geometry\n",
    "using Gridap.Adaptivity\n",
    "using GridapMakie, GLMakie\n",
    "using EqFlux\n",
    "using JLD2"
   ]
  },
  {
   "cell_type": "markdown",
   "metadata": {},
   "source": [
    "Define some helper functions"
   ]
  },
  {
   "cell_type": "code",
   "execution_count": 2,
   "metadata": {},
   "outputs": [
    {
     "data": {
      "text/plain": [
       "min_cell_fields (generic function with 1 method)"
      ]
     },
     "execution_count": 2,
     "metadata": {},
     "output_type": "execute_result"
    }
   ],
   "source": [
    "L2_inner_product(f, g, dx) = ∫(f ⋅ g) * dx\n",
    "\n",
    "L2_norm_squared(f, dx) = L2_inner_product(f, f, dx)\n",
    "\n",
    "function L2_norm_squared(f, model, order)\n",
    "  degree = 2 * order + 2\n",
    "  Ω = Triangulation(model)\n",
    "  dx = Measure(Ω, degree)\n",
    "  L2_norm_squared(f, dx)\n",
    "end\n",
    "\n",
    "function L²_projection_f(model, reffe, f, dx)\n",
    "  V = TestFESpace(model, reffe; conformity = :L2)\n",
    "  m(u, v) = ∫(u * v)*dx\n",
    "  b(v) = ∫(v * f) * dx\n",
    "  op_proj = AffineFEOperator(m, b, V, V)\n",
    "  solve(op_proj)\n",
    "end\n",
    "\n",
    "max_cell_fields(cell_fields, cell_point) =\n",
    "max(maximum(map(maximum, evaluate(cell_field, cell_point)) for cell_field in cell_fields)...)\n",
    "\n",
    "min_cell_fields(cell_fields, cell_point) =\n",
    "min(minimum(map(minimum, evaluate(cell_field, cell_point)) for cell_field in cell_fields)...)"
   ]
  },
  {
   "cell_type": "markdown",
   "metadata": {},
   "source": [
    "Now we consider the Laplace problem\n",
    "$$\\begin{align}\n",
    "-\\Delta u &= f &&\\text{ in }\\Omega\\\\\n",
    "u &= g &&\\text{ on }\\partial\\Omega\n",
    "\\end{align}$$\n",
    "on the L-shaped domain. In this case, we know the true solution\n",
    "is given by the following formula in polar coordinates:"
   ]
  },
  {
   "cell_type": "code",
   "execution_count": 3,
   "metadata": {},
   "outputs": [],
   "source": [
    "#u(x) = sin(2*pi*x[1])*sin(2*pi*x[2])"
   ]
  },
  {
   "cell_type": "markdown",
   "metadata": {},
   "source": [
    "The right hand side is zero for the Laplace equation"
   ]
  },
  {
   "cell_type": "code",
   "execution_count": 4,
   "metadata": {},
   "outputs": [
    {
     "data": {
      "text/plain": [
       "f (generic function with 1 method)"
      ]
     },
     "execution_count": 4,
     "metadata": {},
     "output_type": "execute_result"
    }
   ],
   "source": [
    "#f(x) = 8*pi^2*u(x)\n",
    "u(x) = 30*x[1] * (x[1] - 1) * x[2] * (x[2] - 1)\n",
    "f(x) = 30*(-2 * (x[1] * x[1] + x[2] * x[2]) + 2 * (x[1] + x[2]))"
   ]
  },
  {
   "cell_type": "markdown",
   "metadata": {},
   "source": [
    "Now we find an approximate solution using Gridap.jl"
   ]
  },
  {
   "cell_type": "code",
   "execution_count": 5,
   "metadata": {},
   "outputs": [
    {
     "data": {
      "text/plain": [
       "DomainContribution()"
      ]
     },
     "execution_count": 5,
     "metadata": {},
     "output_type": "execute_result"
    }
   ],
   "source": [
    "order = 1\n",
    "n = 10\n",
    "domain = (0,1,0,1)\n",
    "partition = (n, n)\n",
    "model = CartesianDiscreteModel(domain, partition) |> simplexify\n",
    "#model = refine(model)\n",
    "trian = Triangulation(model)\n",
    "#trian_fig = plot(trian)\n",
    "#wireframe!(trian, color=:black, linewidth=2);\n",
    "#@time uh, dofs = solve_poisson(model, u, f, order)\n",
    "degree = 2 * order + 2\n",
    "Ω = Triangulation(model)\n",
    "dx = Measure(Ω, degree)\n",
    "reffe = ReferenceFE(lagrangian, Float64, order)\n",
    "V0 = TestFESpace(model, reffe; conformity = :H1, dirichlet_tags = \"boundary\")\n",
    "U = TrialFESpace(V0, u)\n",
    "a(u, v) = ∫(∇(v) ⊙ ∇(u)) * dx\n",
    "b(v) = ∫(v * f) * dx\n",
    "op = AffineFEOperator(a, b, U, V0)\n",
    "uh = solve(op)\n",
    "fig_soln, _ , plt = plot(trian, uh)\n",
    "Colorbar(fig_soln[1,2], plt)\n",
    "Qₕ = CellQuadrature(Ω,degree)\n",
    "Qₕ_cell_point = get_cell_points(Qₕ)\n",
    "𝐀ₕ = ∇(uh)\n",
    "σ = build_equilibrated_flux(𝐀ₕ, f, model, order)\n",
    "σ_ave = build_averaged_flux(𝐀ₕ, model)\n",
    "η² = L2_norm_squared(σ + 𝐀ₕ, dx)\n",
    "H1err² = L2_norm_squared(∇(u - uh), dx)"
   ]
  },
  {
   "cell_type": "markdown",
   "metadata": {},
   "source": [
    "Cell fields"
   ]
  },
  {
   "cell_type": "code",
   "execution_count": 6,
   "metadata": {},
   "outputs": [
    {
     "name": "stdout",
     "output_type": "stream",
     "text": [
      "√(sum(div_check²)) = 1.212707362706346e-13\n",
      "√(sum(H1err²)) = 0.7261669377776689\n",
      "eff = √(sum(η²)) / √(sum(H1err²)) = 1.0462174588557576\n"
     ]
    },
    {
     "data": {
      "text/plain": [
       "1.0462174588557576"
      ]
     },
     "execution_count": 6,
     "metadata": {},
     "output_type": "execute_result"
    }
   ],
   "source": [
    "eq_field    = norm ∘ (σ + 𝐀ₕ)\n",
    "av_field    = norm ∘ (σ_ave + 𝐀ₕ)\n",
    "H1err_field = norm ∘ ∇(u - uh)\n",
    "max_val = max_cell_fields([eq_field, av_field, H1err_field], Qₕ_cell_point)\n",
    "min_val = min_cell_fields([eq_field, av_field, H1err_field], Qₕ_cell_point)\n",
    "fig = Figure(resolution = (800, 600))\n",
    "ga = fig[1, 1] = GridLayout()\n",
    "axerr = Axis(ga[1, 1], xlabel = L\"x\", ylabel = L\"y\", title = L\"$H_0^1$ seminorm error\")\n",
    "axeq  = Axis(ga[2, 1], xlabel = L\"x\", ylabel = L\"y\", title = L\"$$Equilibrated flux esitmator\")\n",
    "axave = Axis(ga[2, 2], xlabel = L\"x\", ylabel = L\"y\", title = L\"$$Averaged flux esitmator\")\n",
    "plot_error = plot!(axerr, trian, H1err_field, colorrange=(min_val,max_val), colormap=:viridis)\n",
    "plot_eq    = plot!(axeq,  trian, eq_field,    colorrange=(min_val,max_val), colormap=:viridis)\n",
    "plot_aver  = plot!(axave, trian, av_field,    colorrange=(min_val,max_val), colormap=:viridis)\n",
    "Colorbar(fig[1,2], limits=(min_val, max_val), colormap=:viridis)\n",
    "display(fig)\n",
    "fig = Figure(resolution = (800, 1400))\n",
    "ga = fig[1, 1] = GridLayout()\n",
    "axdiveq = Axis(ga[1, 1], xlabel = L\"x\", ylabel = L\"y\", title = \"Div error equilibrated flux\")\n",
    "axdivave= Axis(ga[2, 1], xlabel = L\"x\", ylabel = L\"y\", title = \"Div error averaged flux\")\n",
    "f_proj = L²_projection_f(model, reffe, f, dx)\n",
    "eq_div_field  = norm ∘ (∇ ⋅ σ - f_proj)\n",
    "ave_div_field = norm ∘ (∇ ⋅ σ_ave - f_proj)\n",
    "plot_div_eq = plot!(axdiveq, trian, eq_div_field,    colormap=:viridis)\n",
    "Colorbar(ga[1,2], plot_div_eq)\n",
    "plot_div_ave = plot!(axdivave, trian, ave_div_field, colormap=:viridis)\n",
    "Colorbar(ga[2,2], plot_div_ave)\n",
    "div_check² = L2_norm_squared(∇ ⋅ σ - f_proj, dx)\n",
    "@show √sum(div_check²)\n",
    "@show √sum(H1err²)\n",
    "@show eff = √sum(η²)/ √sum(H1err²)"
   ]
  },
  {
   "cell_type": "markdown",
   "metadata": {},
   "source": [
    "---\n",
    "\n",
    "*This notebook was generated using [Literate.jl](https://github.com/fredrikekre/Literate.jl).*"
   ]
  }
 ],
 "metadata": {
  "kernelspec": {
   "display_name": "Julia 1.8.0",
   "language": "julia",
   "name": "julia-1.8"
  },
  "language_info": {
   "file_extension": ".jl",
   "mimetype": "application/julia",
   "name": "julia",
   "version": "1.8.0"
  }
 },
 "nbformat": 4,
 "nbformat_minor": 3
}
