{
 "cells": [
  {
   "cell_type": "markdown",
   "source": [
    "# EqFlux.jl"
   ],
   "metadata": {}
  },
  {
   "cell_type": "markdown",
   "source": [
    "This package is based on the\n",
    "[Gridap.jl](https://github.com/gridap/Gridap.jl/tree/master) to provide tools to calculate a\n",
    "posteriori error estimates for numerical solutions of\n",
    "partial differential equations (PDEs). For simplicity, we consider here the\n",
    "Poisson equation\n",
    "\\begin{align}\n",
    "- \\Delta u &= f &&\\text{in }\\Omega\\\\\n",
    "u &= g &&\\text{on }\\partial\\Omega.\n",
    "\\end{align}\n",
    "We suppose we have already computed a conforming approximation\n",
    "$u_h \\in V_h\\subset H^1_0(\\Omega)$ to the solution $u$ in Gridap.jl by solving\n",
    "$$(\\nabla u_h, \\nabla v_h) = (f, v_h)\\quad\\forall v_h\\in V_h,$$\n",
    "for this see for example the\n",
    "[first Gridap.jl tutorial](https://gridap.github.io/Tutorials/dev/pages/t001_poisson/#Tutorial-1:-Poisson-equation-1).\n",
    "The `EqFlux.jl` library then provides the tools to compute an estimator\n",
    "$\\eta(u_h)$ such that the error measured in the $H^1_0$-seminorm\n",
    "can be bounded as\n",
    "$$\\|\\nabla(u - u_h)\\| \\le \\eta(u_h),$$\n",
    "which we refer to as reliability of the estimator. We also can prove the bound\n",
    "$$\\eta(u_h) \\lesssim \\|\\nabla(u - u_h)\\|$$\n",
    "which we refer to as efficiency. The main ingredient in computing this estimator\n",
    "is a reconstructed flux obtained by postprocessing that is an approximation\n",
    "to the numerical flux, i.e., $\\sigma_h\\approx -\\nabla u_h$. This\n",
    "flux has the important property of being \"conservative over faces\" in the sense\n",
    "that\n",
    "$$\\sigma_h \\in \\mathbf{H}(\\mathrm{div},\\Omega).$$\n",
    "we provide two functions to obtain this object:\n",
    "`build_equilibrated_flux` and `build_average_flux` which we denote by\n",
    "$\\sigma_{\\mathrm{eq},h}$ and $\\sigma_{\\mathrm{ave},h}$ respectively.\n",
    ". In addition, for the\n",
    "equilibrated flux $\\sigma_{\\mathrm{eq},h}$ satisfies the so-called equilibrium\n",
    "condition, i.e., for piecewise polynomial $f$, we have\n",
    "$$\\nabla\\cdot\\sigma_{\\mathrm{eq},h} = f.$$\n",
    "In either case,the estimator takes the form\n",
    "$$\\eta(u_h) = \\| \\sigma_{\\cdot,h} + \\nabla u_h\\|.$$"
   ],
   "metadata": {}
  },
  {
   "cell_type": "markdown",
   "source": [
    "# Demonstration\n",
    "We set $\\Omega = (0,1)^2$ to be the unit square in 2D. We use a uniform\n",
    "simplicial mesh $\\mathcal{T}_h$ to discretize this domain by the following in Gridap.jl"
   ],
   "metadata": {}
  },
  {
   "outputs": [
    {
     "output_type": "execute_result",
     "data": {
      "text/plain": "BodyFittedTriangulation()"
     },
     "metadata": {},
     "execution_count": 1
    }
   ],
   "cell_type": "code",
   "source": [
    "using Gridap\n",
    "n = 10 # Number of elements in x and y for square mesh\n",
    "domain = (0,1,0,1)\n",
    "partition = (n, n)\n",
    "model = CartesianDiscreteModel(domain, partition)\n",
    "# Change to triangles\n",
    "model = simplexify(model)\n",
    "𝓣ₕ = Triangulation(model)"
   ],
   "metadata": {},
   "execution_count": 1
  },
  {
   "cell_type": "markdown",
   "source": [
    "We manufacture the solution $u = \\sin(2\\pi x)\\sin(2\\pi y)$ by choosing the right hand side:"
   ],
   "metadata": {}
  },
  {
   "outputs": [
    {
     "output_type": "execute_result",
     "data": {
      "text/plain": "f (generic function with 1 method)"
     },
     "metadata": {},
     "execution_count": 2
    }
   ],
   "cell_type": "code",
   "source": [
    "u(x) = sin(2*pi*x[1])*sin(2*pi*x[2])\n",
    "f(x) = 8*pi^2*u(x)"
   ],
   "metadata": {},
   "execution_count": 2
  },
  {
   "cell_type": "markdown",
   "source": [
    "We consider the discrete space\n",
    "$$V_h = \\{v_h\\in H_0^1(\\Omega): v_h|_K \\in\\mathbb{P}_k(K),\\quad\\forall K\\in\n",
    "\\mathcal{T}_h\\}.$$ This is achieved through the following with Gridap.jl:"
   ],
   "metadata": {}
  },
  {
   "outputs": [
    {
     "output_type": "execute_result",
     "data": {
      "text/plain": "SingleFieldFEFunction():\n num_cells: 200\n DomainStyle: ReferenceDomain()\n Triangulation: BodyFittedTriangulation()\n Triangulation id: 1040789554485107397"
     },
     "metadata": {},
     "execution_count": 3
    }
   ],
   "cell_type": "code",
   "source": [
    "# Polynomial order\n",
    "order = 1\n",
    "degree = 2 * order + 2\n",
    "dx = Measure(𝓣ₕ, degree)\n",
    "reffe = ReferenceFE(lagrangian, Float64, order)\n",
    "V0 = TestFESpace(model, reffe; conformity = :H1, dirichlet_tags = \"boundary\")\n",
    "U = TrialFESpace(V0, u)\n",
    "a(u, v) = ∫(∇(v) ⊙ ∇(u)) * dx\n",
    "b(v) = ∫(v * f) * dx\n",
    "op = AffineFEOperator(a, b, U, V0)\n",
    "uh = solve(op)"
   ],
   "metadata": {},
   "execution_count": 3
  },
  {
   "cell_type": "markdown",
   "source": [
    "We can then build the fluxes $\\sigma_{\\mathrm{eq},h}$ and\n",
    "$\\sigma_{\\mathrm{ave},h}$ via the following:"
   ],
   "metadata": {}
  },
  {
   "outputs": [
    {
     "output_type": "execute_result",
     "data": {
      "text/plain": "SingleFieldFEFunction():\n num_cells: 200\n DomainStyle: ReferenceDomain()\n Triangulation: BodyFittedTriangulation()\n Triangulation id: 1040789554485107397"
     },
     "metadata": {},
     "execution_count": 4
    }
   ],
   "cell_type": "code",
   "source": [
    "using EqFlux\n",
    "σ_eq = build_equilibrated_flux(∇(uh), f, model, order)\n",
    "σ_ave = build_averaged_flux(∇(uh), model)"
   ],
   "metadata": {},
   "execution_count": 4
  },
  {
   "cell_type": "markdown",
   "source": [
    "We compare the estimators with the error they are estimating in the\n",
    "following figure (the rest of the full code can be founde here TODO)\n",
    "\n",
    "We see that both estimators provide a good cellwise approximation of the\n",
    "error, but the one based on the equilibrated flux is closer visually. Next,\n",
    "we consider the divergence error, i.e., how well the reconstructed object\n",
    "satisfies $\\nabla\\cdot\\sigma = \\Pi_1 f$. In particular, in the following plot we can\n",
    "see that the equilibrated flux estimator satisfies the divergence constraint\n",
    "up to machine precision, but the flux based on averaging does not."
   ],
   "metadata": {}
  },
  {
   "cell_type": "markdown",
   "source": [
    "---\n",
    "\n",
    "*This notebook was generated using [Literate.jl](https://github.com/fredrikekre/Literate.jl).*"
   ],
   "metadata": {}
  }
 ],
 "nbformat_minor": 3,
 "metadata": {
  "language_info": {
   "file_extension": ".jl",
   "mimetype": "application/julia",
   "name": "julia",
   "version": "1.8.0"
  },
  "kernelspec": {
   "name": "julia-1.8",
   "display_name": "Julia 1.8.0",
   "language": "julia"
  }
 },
 "nbformat": 4
}
